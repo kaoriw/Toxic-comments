{
 "cells": [
  {
   "cell_type": "markdown",
   "metadata": {
    "colab_type": "text",
    "id": "z_qoxn83IRaQ"
   },
   "source": [
    "# Toxic comments\n",
    "### The code below is used to initialize google colab, if you test the code on your own computer, you need to comment out these codes."
   ]
  },
  {
   "cell_type": "code",
   "execution_count": 0,
   "metadata": {
    "colab": {
     "autoexec": {
      "startup": false,
      "wait_interval": 0
     }
    },
    "colab_type": "code",
    "id": "4S4CHNvk9DCi"
   },
   "outputs": [],
   "source": [
    "# pour installer les modules necessaires\n",
    "from os import path\n",
    "from wheel.pep425tags import get_abbr_impl, get_impl_ver, get_abi_tag\n",
    "platform = '{}{}-{}'.format(get_abbr_impl(), get_impl_ver(), get_abi_tag())\n",
    "accelerator = 'cu80' if path.exists('/opt/bin/nvidia-smi') else 'cpu'\n",
    "!pip install -q http://download.pytorch.org/whl/{accelerator}/torch-0.3.0.post4-{platform}-linux_x86_64.whl torchvision\n",
    "!mkdir -p drive\n",
    "!google-drive-ocamlfuse drive  -o nonempty"
   ]
  },
  {
   "cell_type": "code",
   "execution_count": 0,
   "metadata": {
    "colab": {
     "autoexec": {
      "startup": false,
      "wait_interval": 0
     }
    },
    "colab_type": "code",
    "id": "Te4Yg7bCbvPw"
   },
   "outputs": [],
   "source": [
    "# pour installer les modules necessaires et authenticate chaque connexion\n",
    "!apt-get install -y -qq software-properties-common python-software-properties module-init-tools\n",
    "!add-apt-repository -y ppa:alessandro-strada/ppa 2>&1 > /dev/null\n",
    "!apt-get update -qq 2>&1 > /dev/null\n",
    "!apt-get -y install -qq google-drive-ocamlfuse fuse\n",
    "!pip install skorch\n",
    "from google.colab import auth\n",
    "auth.authenticate_user()\n",
    "from oauth2client.client import GoogleCredentials\n",
    "creds = GoogleCredentials.get_application_default()\n",
    "import getpass\n",
    "!google-drive-ocamlfuse -headless -id={creds.client_id} -secret={creds.client_secret} < /dev/null 2>&1 | grep URL\n",
    "vcode = getpass.getpass()\n",
    "!echo {vcode} | google-drive-ocamlfuse -headless -id={creds.client_id} -secret={creds.client_secret}"
   ]
  },
  {
   "cell_type": "markdown",
   "metadata": {
    "colab_type": "text",
    "id": "9G-hep4pD-YO"
   },
   "source": [
    "# Upload training data\n",
    "### The code below is used to upload data to Google Colab, if you test the code on your own computer, you need to comment out these codes."
   ]
  },
  {
   "cell_type": "code",
   "execution_count": 12,
   "metadata": {
    "colab": {
     "autoexec": {
      "startup": false,
      "wait_interval": 0
     },
     "base_uri": "https://localhost:8080/",
     "height": 173,
     "resources": {
      "http://localhost:8080/nbextensions/google.colab/files.js": {
       "data": "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",
       "headers": [
        [
         "content-type",
         "application/javascript"
        ]
       ],
       "ok": true,
       "status": 200,
       "status_text": ""
      }
     }
    },
    "colab_type": "code",
    "executionInfo": {
     "elapsed": 1754050,
     "status": "ok",
     "timestamp": 1523149253110,
     "user": {
      "displayName": "Zhi Zhou",
      "photoUrl": "//lh5.googleusercontent.com/-TKGRFwtKKe8/AAAAAAAAAAI/AAAAAAAAAAk/LHl-wW7HDRw/s50-c-k-no/photo.jpg",
      "userId": "116677058889356831324"
     },
     "user_tz": -120
    },
    "id": "bIyCxSL4INxQ",
    "outputId": "9655bf82-8090-440e-f41e-348ae4e41213"
   },
   "outputs": [
    {
     "data": {
      "text/html": [
       "\n",
       "     <input type=\"file\" id=\"files-7dc57d4f-b6a0-4a86-bc03-dca76ed3c4e7\" name=\"files[]\" multiple disabled />\n",
       "     <output id=\"result-7dc57d4f-b6a0-4a86-bc03-dca76ed3c4e7\">\n",
       "      Upload widget is only available when the cell has been executed in the\n",
       "      current browser session. Please rerun this cell to enable.\n",
       "      </output>\n",
       "      <script src=\"/nbextensions/google.colab/files.js\"></script> "
      ],
      "text/plain": [
       "<IPython.core.display.HTML object>"
      ]
     },
     "metadata": {
      "tags": []
     },
     "output_type": "display_data"
    },
    {
     "name": "stdout",
     "output_type": "stream",
     "text": [
      "Saving pretrain.glove.100d.txt to pretrain.glove.100d.txt\n",
      "Saving sample_submission.csv to sample_submission.csv\n",
      "Saving test.csv to test.csv\n",
      "Saving train.csv to train.csv\n"
     ]
    }
   ],
   "source": [
    "# il faut telechager test.csv, train.csv, pretrain-glove file et sample_submission.csv si vous n'avez pas encore fait\n",
    "!mkdir -p drive\n",
    "!google-drive-ocamlfuse drive\n",
    "from google.colab import files\n",
    "uploaded = files.upload()"
   ]
  },
  {
   "cell_type": "markdown",
   "metadata": {
    "colab_type": "text",
    "id": "kyUuW7MrNNN0"
   },
   "source": [
    "# Import module"
   ]
  },
  {
   "cell_type": "code",
   "execution_count": 2,
   "metadata": {
    "colab": {
     "autoexec": {
      "startup": false,
      "wait_interval": 0
     }
    },
    "colab_type": "code",
    "id": "dKgHVABlM7UK"
   },
   "outputs": [],
   "source": [
    "import re\n",
    "import numpy as np\n",
    "import pandas as pd\n",
    "import torch\n",
    "import torch.nn.functional as F\n",
    "import torch.utils.data\n",
    "import time\n",
    "import matplotlib.pyplot as plt\n",
    "from keras.preprocessing import text, sequence\n",
    "from sklearn.metrics import roc_auc_score\n",
    "from torch import nn, optim\n",
    "from torch.autograd import Variable\n",
    "from skorch.net import NeuralNetClassifier"
   ]
  },
  {
   "cell_type": "markdown",
   "metadata": {},
   "source": [
    "# Display data"
   ]
  },
  {
   "cell_type": "code",
   "execution_count": 4,
   "metadata": {},
   "outputs": [
    {
     "data": {
      "text/html": [
       "<div>\n",
       "<style scoped>\n",
       "    .dataframe tbody tr th:only-of-type {\n",
       "        vertical-align: middle;\n",
       "    }\n",
       "\n",
       "    .dataframe tbody tr th {\n",
       "        vertical-align: top;\n",
       "    }\n",
       "\n",
       "    .dataframe thead th {\n",
       "        text-align: right;\n",
       "    }\n",
       "</style>\n",
       "<table border=\"1\" class=\"dataframe\">\n",
       "  <thead>\n",
       "    <tr style=\"text-align: right;\">\n",
       "      <th></th>\n",
       "      <th>id</th>\n",
       "      <th>comment_text</th>\n",
       "      <th>toxic</th>\n",
       "      <th>severe_toxic</th>\n",
       "      <th>obscene</th>\n",
       "      <th>threat</th>\n",
       "      <th>insult</th>\n",
       "      <th>identity_hate</th>\n",
       "    </tr>\n",
       "  </thead>\n",
       "  <tbody>\n",
       "    <tr>\n",
       "      <th>45506</th>\n",
       "      <td>79b6a5bd45e6daa8</td>\n",
       "      <td>\"\\n\\nFirstly, please kindly specifically say w...</td>\n",
       "      <td>0</td>\n",
       "      <td>0</td>\n",
       "      <td>0</td>\n",
       "      <td>0</td>\n",
       "      <td>0</td>\n",
       "      <td>0</td>\n",
       "    </tr>\n",
       "    <tr>\n",
       "      <th>68774</th>\n",
       "      <td>b7fc9dc12eb8c7c8</td>\n",
       "      <td>Note to self \\n\\nI'm putting this here so that...</td>\n",
       "      <td>1</td>\n",
       "      <td>0</td>\n",
       "      <td>0</td>\n",
       "      <td>0</td>\n",
       "      <td>0</td>\n",
       "      <td>0</td>\n",
       "    </tr>\n",
       "    <tr>\n",
       "      <th>9216</th>\n",
       "      <td>1888ac35c8979187</td>\n",
       "      <td>:DenTek Oral Care\\nA tag has been placed on De...</td>\n",
       "      <td>0</td>\n",
       "      <td>0</td>\n",
       "      <td>0</td>\n",
       "      <td>0</td>\n",
       "      <td>0</td>\n",
       "      <td>0</td>\n",
       "    </tr>\n",
       "    <tr>\n",
       "      <th>120229</th>\n",
       "      <td>830afe753aef4f61</td>\n",
       "      <td>Note that someone called Bidge appears to be v...</td>\n",
       "      <td>0</td>\n",
       "      <td>0</td>\n",
       "      <td>0</td>\n",
       "      <td>0</td>\n",
       "      <td>0</td>\n",
       "      <td>0</td>\n",
       "    </tr>\n",
       "    <tr>\n",
       "      <th>42645</th>\n",
       "      <td>71d065cf82dfd118</td>\n",
       "      <td>It'd be nice to have youtube or audio link... ...</td>\n",
       "      <td>0</td>\n",
       "      <td>0</td>\n",
       "      <td>0</td>\n",
       "      <td>0</td>\n",
       "      <td>0</td>\n",
       "      <td>0</td>\n",
       "    </tr>\n",
       "  </tbody>\n",
       "</table>\n",
       "</div>"
      ],
      "text/plain": [
       "                      id                                       comment_text  \\\n",
       "45506   79b6a5bd45e6daa8  \"\\n\\nFirstly, please kindly specifically say w...   \n",
       "68774   b7fc9dc12eb8c7c8  Note to self \\n\\nI'm putting this here so that...   \n",
       "9216    1888ac35c8979187  :DenTek Oral Care\\nA tag has been placed on De...   \n",
       "120229  830afe753aef4f61  Note that someone called Bidge appears to be v...   \n",
       "42645   71d065cf82dfd118  It'd be nice to have youtube or audio link... ...   \n",
       "\n",
       "        toxic  severe_toxic  obscene  threat  insult  identity_hate  \n",
       "45506       0             0        0       0       0              0  \n",
       "68774       1             0        0       0       0              0  \n",
       "9216        0             0        0       0       0              0  \n",
       "120229      0             0        0       0       0              0  \n",
       "42645       0             0        0       0       0              0  "
      ]
     },
     "execution_count": 4,
     "metadata": {},
     "output_type": "execute_result"
    }
   ],
   "source": [
    "#=======================================\n",
    "# real parameters for train\n",
    "#=======================================\n",
    "batch_size = 128 # batch size for train\n",
    "MAX_NB_WORDS = 100000 # maximal word number considered\n",
    "max_features = MAX_NB_WORDS\n",
    "maxlen = 150          # maximal word number in one sentence\n",
    "embed_size = 100      # word's vector length\n",
    "TRAIN_FILE = \"train.csv\"\n",
    "TEST_FILE = \"test.csv\"\n",
    "# emb_file is the pre-train file generated by glove\n",
    "emb_file = 'pretrain.glove.100d.txt'\n",
    "n_splits = 10         # k-fold cross validation parameter, error occur if number of data is too small\n",
    "#----------------------------------------\n",
    "\n",
    "#=======================================\n",
    "# small test before running long time train\n",
    "#=======================================\n",
    "# batch_size = 25\n",
    "# MAX_NB_WORDS = 100000 # maximal word number considered\n",
    "# max_features = MAX_NB_WORDS\n",
    "# maxlen = 150          # maximal word number in one sentence\n",
    "# embed_size = 100      # word's vector length\n",
    "# TRAIN_FILE = \"train_small.csv\"\n",
    "# TEST_FILE = \"test_small.csv\"\n",
    "# # emb_file is the pre-train file generated by glove\n",
    "# emb_file = 'pretrain_glove_vectors.txt'\n",
    "# n_splits = 2          # k-fold cross validation parameter, error occur if number of data is too small\n",
    "#----------------------------------------\n",
    "\n",
    "train = pd.read_csv(TRAIN_FILE)\n",
    "test = pd.read_csv(TEST_FILE)\n",
    "# frac: percentage of train data to be trained, we use all\n",
    "train = train.sample(frac=1)\n",
    "\n",
    "# display data\n",
    "train.head()"
   ]
  },
  {
   "cell_type": "markdown",
   "metadata": {
    "colab_type": "text",
    "id": "pBguvsc8EUsD"
   },
   "source": [
    "# Pre-processing data "
   ]
  },
  {
   "cell_type": "code",
   "execution_count": 13,
   "metadata": {
    "colab": {
     "autoexec": {
      "startup": false,
      "wait_interval": 0
     },
     "base_uri": "https://localhost:8080/",
     "height": 580
    },
    "colab_type": "code",
    "executionInfo": {
     "elapsed": 44866,
     "status": "ok",
     "timestamp": 1523149297998,
     "user": {
      "displayName": "Zhi Zhou",
      "photoUrl": "//lh5.googleusercontent.com/-TKGRFwtKKe8/AAAAAAAAAAI/AAAAAAAAAAk/LHl-wW7HDRw/s50-c-k-no/photo.jpg",
      "userId": "116677058889356831324"
     },
     "user_tz": -120
    },
    "id": "2LNjRZBf8z6Y",
    "outputId": "13d2390d-4354-4c62-b2a4-4643340ae499"
   },
   "outputs": [
    {
     "name": "stdout",
     "output_type": "stream",
     "text": [
      "id               False\n",
      "comment_text     False\n",
      "toxic            False\n",
      "severe_toxic     False\n",
      "obscene          False\n",
      "threat           False\n",
      "insult           False\n",
      "identity_hate    False\n",
      "dtype: bool\n",
      "id              False\n",
      "comment_text    False\n",
      "dtype: bool\n",
      "Processing text dataset\n"
     ]
    },
    {
     "data": {
      "image/png": "[encoded data removed]",
      "text/plain": [
       "<matplotlib.figure.Figure at 0x7fb2e9b0d080>"
      ]
     },
     "metadata": {
      "tags": []
     },
     "output_type": "display_data"
    }
   ],
   "source": [
    "# check if there is null value\n",
    "print(train.isnull().any())\n",
    "print(test.isnull().any())\n",
    "\n",
    "print('Processing text dataset')\n",
    "# Regex to remove all Non-Alpha Numeric and space\n",
    "special_character_removal=re.compile(r'[^a-z\\d ]',re.IGNORECASE)\n",
    "\n",
    "# regex to replace all numerics\n",
    "replace_numbers=re.compile(r'\\d+',re.IGNORECASE)\n",
    "\n",
    "def text_to_wordlist(text, remove_stopwords=False, stem_words=False):   \n",
    "    # Convert words to lower case and split them\n",
    "    text = text.lower().split()\n",
    "\n",
    "    # Optionally, remove stop words\n",
    "    if remove_stopwords:\n",
    "        stops = set(stopwords.words(\"english\"))\n",
    "        text = [w for w in text if not w in stops]\n",
    "    \n",
    "    text = \" \".join(text)\n",
    "    \n",
    "    # Remove Special Characters\n",
    "    text=special_character_removal.sub('',text)\n",
    "    \n",
    "    # Replace Numbers\n",
    "    text=replace_numbers.sub('n',text)\n",
    "   \n",
    "    # Return a list of words\n",
    "    return(text)\n",
    "\n",
    "sentences_train = train[\"comment_text\"].fillna(\"NA\").values\n",
    "list_classes = [\"toxic\", \"severe_toxic\", \"obscene\", \"threat\", \"insult\", \"identity_hate\"]\n",
    "y = train[list_classes].values\n",
    "sentences_test = test[\"comment_text\"].fillna(\"NA\").values\n",
    "\n",
    "comments = []\n",
    "for text1 in sentences_train:\n",
    "    comments.append(text_to_wordlist(text1))\n",
    "    \n",
    "test_comments=[]\n",
    "for text2 in sentences_test:\n",
    "    test_comments.append(text_to_wordlist(text2))\n",
    "\n",
    "tokenizer = text.Tokenizer(num_words=MAX_NB_WORDS)\n",
    "# fit_on_text(texts): use texts(list) to generate token dictionary\n",
    "tokenizer.fit_on_texts(comments + test_comments)\n",
    "\n",
    "# texts_to_sequences(text): turn text into sequence number according the dictionary generated above\n",
    "sequences = tokenizer.texts_to_sequences(comments) \n",
    "test_sequences = tokenizer.texts_to_sequences(test_comments) \n",
    "\n",
    "# a dictionary {word1: number1, word2: number2, ...}, including all the words from train and test data\n",
    "word_index = tokenizer.word_index\n",
    "\n",
    "# if the number of words in a sentence is below maxlen, fill the rest with 0(from left)\n",
    "# if the number of words is beyond maxlen, reduce from the left until remaining maxlen\n",
    "X_train = sequence.pad_sequences(sequences, maxlen=maxlen)\n",
    "X_test = sequence.pad_sequences(test_sequences, maxlen=maxlen)\n",
    "\n",
    "# visualize data, we can see most sentences contain less than 150 words    \n",
    "totalNumWords = [len(one_comment) for one_comment in sequences+test_sequences] \n",
    "plt.hist(totalNumWords,bins = np.arange(0,400,10))\n",
    "plt.title(\"Number of words in sentences\")\n",
    "plt.show()"
   ]
  },
  {
   "cell_type": "markdown",
   "metadata": {
    "colab_type": "text",
    "id": "8IWKMideEl4K"
   },
   "source": [
    "# Prepare embeddings"
   ]
  },
  {
   "cell_type": "code",
   "execution_count": 14,
   "metadata": {
    "colab": {
     "autoexec": {
      "startup": false,
      "wait_interval": 0
     },
     "base_uri": "https://localhost:8080/",
     "height": 51
    },
    "colab_type": "code",
    "executionInfo": {
     "elapsed": 2779,
     "status": "ok",
     "timestamp": 1523149300816,
     "user": {
      "displayName": "Zhi Zhou",
      "photoUrl": "//lh5.googleusercontent.com/-TKGRFwtKKe8/AAAAAAAAAAI/AAAAAAAAAAk/LHl-wW7HDRw/s50-c-k-no/photo.jpg",
      "userId": "116677058889356831324"
     },
     "user_tz": -120
    },
    "id": "7_dlTiTi86Do",
    "outputId": "b82eaadf-5f68-4d37-e116-73e79777075f"
   },
   "outputs": [
    {
     "name": "stdout",
     "output_type": "stream",
     "text": [
      "Preparing embedding matrix\n",
      "embedding matrix's shape:  (100001, 100)\n"
     ]
    }
   ],
   "source": [
    "print('Preparing embedding matrix')\n",
    "# convert X and y to torch TensorDataset format\n",
    "test_loader = torch.utils.data.DataLoader(torch.from_numpy(X_test).long(), batch_size=1024)\n",
    "nb_words = min(MAX_NB_WORDS, len(word_index))\n",
    "embedding_matrix = np.zeros((nb_words+1, embed_size)) # well\n",
    "\n",
    "# collect words and words' vectors from pretrain-glove file\n",
    "# embeddings_index = {word1:vector1, word2:vector2, ...}\n",
    "embeddings_index = {}\n",
    "with open(emb_file) as f:\n",
    "    for line in f:\n",
    "        values = line.split()\n",
    "        word = values[0]\n",
    "        coefs = np.asarray(values[1:], dtype='float32')\n",
    "        embeddings_index[word] = coefs\n",
    "\n",
    "# i:postion, word: word, embedding_vector: word's vector\n",
    "# use word_index and embeddings_index to generate embedding_matrix\n",
    "# word's index is correspond to row number, and the row's values is word's vector  \n",
    "for word, i in word_index.items():\n",
    "    if i >= nb_words:\n",
    "        continue\n",
    "    embedding_vector = embeddings_index.get(word)\n",
    "    if embedding_vector is not None:\n",
    "        # words not found in embedding_index will be all-zeros.\n",
    "        embedding_matrix[i] = embedding_vector \n",
    "\n",
    "print(\"embedding matrix's shape: \", embedding_matrix.shape)"
   ]
  },
  {
   "cell_type": "markdown",
   "metadata": {
    "colab_type": "text",
    "id": "hILRFQLrFTdo"
   },
   "source": [
    "# Define model, train and evaluation\n",
    "We use a LSTM model, with mainly 7 sections: Embedding -> LSTM -> Maxpooling -> Dropout -> Fully connection -> Dropout -> Fully connection.\n",
    "Besides, we use k-fold cross validation in our case. **Attention, for k-fold cross validation, error will occur if number of data is too small**"
   ]
  },
  {
   "cell_type": "code",
   "execution_count": 15,
   "metadata": {
    "colab": {
     "autoexec": {
      "startup": false,
      "wait_interval": 0
     },
     "base_uri": "https://localhost:8080/",
     "height": 454
    },
    "colab_type": "code",
    "executionInfo": {
     "elapsed": 25804751,
     "status": "ok",
     "timestamp": 1523175105624,
     "user": {
      "displayName": "Zhi Zhou",
      "photoUrl": "//lh5.googleusercontent.com/-TKGRFwtKKe8/AAAAAAAAAAI/AAAAAAAAAAk/LHl-wW7HDRw/s50-c-k-no/photo.jpg",
      "userId": "116677058889356831324"
     },
     "user_tz": -120
    },
    "id": "1nzMViEy9Env",
    "outputId": "d7802db7-7f57-48d1-f0c8-ae99f4a24f01"
   },
   "outputs": [
    {
     "name": "stdout",
     "output_type": "stream",
     "text": [
      "Net(\n",
      "  (embeddings): Embedding(100000, 100)\n",
      "  (lstm): LSTM(100, 50, num_layers=2, batch_first=True, bidirectional=True)\n",
      "  (max_pool): MaxPool1d(kernel_size=50, stride=50, padding=0, dilation=1, ceil_mode=False)\n",
      "  (dropout): Dropout(p=0.25)\n",
      "  (lin_1): Linear(in_features=300, out_features=50)\n",
      "  (relu): ReLU()\n",
      "  (dropout_2): Dropout(p=0.25)\n",
      "  (lin_2): Linear(in_features=50, out_features=6)\n",
      "  (bn): BatchNorm2d(50, eps=1e-05, momentum=0.1, affine=True)\n",
      "  (sig): Sigmoid()\n",
      ")\n",
      "epoch: 1 | loss: 0.24226313829421997 | score: 0.9457322498118996\n",
      "epoch: 2 | loss: 0.11190773546695709 | score: 0.955419264610652\n",
      "epoch: 3 | loss: 0.07162892818450928 | score: 0.9666263541356948\n",
      "epoch: 4 | loss: 0.06313909590244293 | score: 0.9661902232355523\n",
      "epoch: 5 | loss: 0.04353374242782593 | score: 0.9686514568265266\n",
      "epoch: 6 | loss: 0.044561441987752914 | score: 0.9741479369260243\n",
      "epoch: 7 | loss: 0.0416451171040535 | score: 0.9743568309253252\n",
      "epoch: 8 | loss: 0.044528160244226456 | score: 0.9738868851686101\n",
      "epoch: 9 | loss: 0.038383953273296356 | score: 0.9756414374956327\n",
      "epoch: 10 | loss: 0.029537569731473923 | score: 0.9801490998557965\n",
      "-----------------------------------------------------------------\n",
      "Best score is: 0.9801490998557965 , Average score is: 0.9680801738991714\n",
      "train complete\n",
      "total train time:  7.16752675751845 h\n"
     ]
    }
   ],
   "source": [
    "from sklearn.model_selection import KFold\n",
    "hidden_dim=50\n",
    "pool_size = 50# 100\n",
    "lin_dim = int(embed_size*maxlen/pool_size)\n",
    "\n",
    "class Net(nn.Module):\n",
    "    def __init__(self,max_features,embed_size,hidden_dim,pool_size,lin_dim):\n",
    "        super(Net, self).__init__()\n",
    "        p = .25 # drop rate\n",
    "        self.embeddings = nn.Embedding(num_embeddings=max_features, embedding_dim=embed_size)\n",
    "        self.embeddings.weight.data = torch.Tensor(embedding_matrix)\n",
    "        # data structure (batch, time_step, input), if batch is in the first position,\n",
    "        # then batch_first=True, otherwise false\n",
    "        # input_siez=embed_size: number of input, hidden_size=50: number of neurons each layer,\n",
    "        # num_layers=4: number of layer\n",
    "        self.lstm = nn.LSTM(embed_size, hidden_dim, 2, batch_first=True, bidirectional=True)\n",
    "        self.hidden = (\n",
    "            Variable(torch.zeros(2, batch_size, 50)),\n",
    "            Variable(torch.zeros(2, batch_size, 50))) # hidden state\n",
    "\n",
    "        self.max_pool = nn.MaxPool1d(pool_size) # max pooling\n",
    "        self.dropout = nn.Dropout(p=p) # apply drop out\n",
    "        self.lin_1 = nn.Linear(lin_dim, 50) # fully connected layer\n",
    "        self.relu = nn.ReLU() # activatoin function\n",
    "        self.dropout_2 = nn.Dropout(p=p) # apply drop out\n",
    "        self.lin_2 = nn.Linear(50, 6) # fully connected layer, six class\n",
    "        self.bn = nn.BatchNorm2d(50)\n",
    "        self.sig = nn.Sigmoid() # final result: probability\n",
    "\n",
    "    def forward(self, x):\n",
    "        x = self.embeddings(x) # (batch_size,embedded_size)->(batch_size,sentence_length,embedded_size)\n",
    "        # every time it will return a hidden state, we use it\n",
    "        # together with following data to generate new output\n",
    "        # x, self.hidden = self.lstm(x, self.hidden)\n",
    "        x, self.hidden = self.lstm(x) # (batch_size,sentence_length,embedded_size)\n",
    "        # after pool: (batch_size, maxlen, embed_size/pool_size)\n",
    "        x = self.max_pool(x) # need to select only the last output to pool?\n",
    "        # x.view: unscroll data,x.size(0) not change, the rest turns into one dimmension\n",
    "        x = x.view(x.size(0), -1) # (batch_size, maxlen * embed_size/pool_size)\n",
    "        x = self.dropout(x) # apply drop out\n",
    "        x = self.lin_1(x) # fully connected layer\n",
    "        x = self.bn(x) # batch normalization\n",
    "        x = self.relu(x) # apply activation function \n",
    "        x = self.dropout_2(x) # apply drop out\n",
    "        x = self.lin_2(x) # fully connected layer\n",
    "        return self.sig(x)\n",
    "\n",
    "def mean_fun(onelist):\n",
    "    count = 0\n",
    "    for i in onelist:\n",
    "        count += i\n",
    "    return float(count/len(onelist))\n",
    "\n",
    "def train(n_splits):\n",
    "    learnin1g_rate = 1e-4\n",
    "    # intialize the optimizer, use optimizer to accelorate learnnig process\n",
    "    # there are different optimizers: SGD, Adagrad, Adadelta, Adam, Adamax, Nadam\n",
    "    optimizer = optim.Adam(model.parameters(), lr=learnin1g_rate)\n",
    "    # start model training\n",
    "    kf = KFold(n_splits=n_splits, shuffle=True, random_state=42)\n",
    "    score_list = []\n",
    "    for i, (inTr, inTe) in enumerate(kf.split(X_train, y)):\n",
    "        xtr = X_train[inTr]\n",
    "        xte = X_train[inTe]\n",
    "        ytr = y[inTr]\n",
    "        yte = y[inTe]\n",
    "        train_set = torch.utils.data.TensorDataset(torch.from_numpy(xtr).long(), torch.from_numpy(ytr).float())\n",
    "        train_loader = torch.utils.data.DataLoader(train_set, batch_size=batch_size)\n",
    "        valid_set = torch.utils.data.TensorDataset(torch.from_numpy(xte).long(), torch.from_numpy(yte).float())\n",
    "        valid_loader = torch.utils.data.DataLoader(valid_set, batch_size=batch_size)\n",
    "\n",
    "        model.train() \n",
    "        # batch_size:number of example to train every time, it will go through all the examples\n",
    "        for batch_idx, (data, target) in enumerate(train_loader):\n",
    "            data, target = Variable(data), Variable(target)\n",
    "            y_pred = model(data)\n",
    "            loss = F.binary_cross_entropy(y_pred, target) # binary cross entropy loss\n",
    "            model.zero_grad() # orginal, clear gradients for this training step\n",
    "            # optimizer.zero_grad() # myself, clear gradients for this training step\n",
    "            loss.backward()\n",
    "            #loss.backward(retain_graph=True)# myself\n",
    "            optimizer.step() # apply gradients\n",
    "        \n",
    "        model.eval()\n",
    "        preds = []\n",
    "        for batch_idx, (data, _) in enumerate(valid_loader):\n",
    "            data = Variable(data, volatile=True)\n",
    "            output = model(data)\n",
    "            pred = output.data\n",
    "            preds.append(pred.numpy())\n",
    "\n",
    "        y_test = np.concatenate(preds, axis=0)\n",
    "        score = roc_auc_score(yte, y_test)\n",
    "        score_list.append(score)\n",
    "        print(\"epoch:\", i+1, \"|\", \"loss:\", loss.data[0],\"|\", \"score:\", score)\n",
    "    score_max = max(score_list)        \n",
    "    score_mean = mean_fun(score_list)\n",
    "    print(\"-----------------------------------------------------------------\")\n",
    "    print(\"Best score is:\", score_max, \",\", \"Average score is:\", score_mean)\n",
    "\n",
    "\n",
    "# create Net for model\n",
    "model = Net(max_features,embed_size,hidden_dim,pool_size,lin_dim)\n",
    "print(model)\n",
    "# start train()\n",
    "time_start=time.time();\n",
    "train(n_splits)\n",
    "model.eval()# set training to false\n",
    "time_end=time.time();\n",
    "print(\"train complete\")\n",
    "print(\"total train time: \", (time_end-time_start)/3600, \"h\")"
   ]
  },
  {
   "cell_type": "markdown",
   "metadata": {
    "colab_type": "text",
    "id": "7i_iIzEFFiZH"
   },
   "source": [
    "# Prediction"
   ]
  },
  {
   "cell_type": "code",
   "execution_count": 0,
   "metadata": {
    "colab": {
     "autoexec": {
      "startup": false,
      "wait_interval": 0
     }
    },
    "colab_type": "code",
    "id": "QG99x2fUKCaq"
   },
   "outputs": [],
   "source": [
    "# Predict the test data and save the result\n",
    "preds = []\n",
    "for data in test_loader:\n",
    "    data = Variable(data, volatile=True)\n",
    "    output = model(data)\n",
    "    pred = output.data\n",
    "    preds.append(pred.numpy())\n",
    "y_test = np.concatenate(preds, axis=0)\n",
    "sample_submission = pd.read_csv(\"sample_submission.csv\")\n",
    "sample_submission[list_classes] = y_test\n",
    "sample_submission.to_csv(\"submission_lstm.csv\", index=False)"
   ]
  },
  {
   "cell_type": "code",
   "execution_count": 0,
   "metadata": {
    "colab": {
     "autoexec": {
      "startup": false,
      "wait_interval": 0
     }
    },
    "colab_type": "code",
    "id": "z6ge38ZeXMzG"
   },
   "outputs": [],
   "source": [
    "files.download(\"submission_lstm.csv\") # download the result from Google Colab"
   ]
  },
  {
   "cell_type": "code",
   "execution_count": 6,
   "metadata": {},
   "outputs": [
    {
     "data": {
      "text/html": [
       "<div>\n",
       "<style scoped>\n",
       "    .dataframe tbody tr th:only-of-type {\n",
       "        vertical-align: middle;\n",
       "    }\n",
       "\n",
       "    .dataframe tbody tr th {\n",
       "        vertical-align: top;\n",
       "    }\n",
       "\n",
       "    .dataframe thead th {\n",
       "        text-align: right;\n",
       "    }\n",
       "</style>\n",
       "<table border=\"1\" class=\"dataframe\">\n",
       "  <thead>\n",
       "    <tr style=\"text-align: right;\">\n",
       "      <th></th>\n",
       "      <th>id</th>\n",
       "      <th>toxic</th>\n",
       "      <th>severe_toxic</th>\n",
       "      <th>obscene</th>\n",
       "      <th>threat</th>\n",
       "      <th>insult</th>\n",
       "      <th>identity_hate</th>\n",
       "    </tr>\n",
       "  </thead>\n",
       "  <tbody>\n",
       "    <tr>\n",
       "      <th>0</th>\n",
       "      <td>00001cee341fdb12</td>\n",
       "      <td>0.977194</td>\n",
       "      <td>0.246823</td>\n",
       "      <td>0.874671</td>\n",
       "      <td>0.036069</td>\n",
       "      <td>0.756161</td>\n",
       "      <td>0.151352</td>\n",
       "    </tr>\n",
       "    <tr>\n",
       "      <th>1</th>\n",
       "      <td>0000247867823ef7</td>\n",
       "      <td>0.002163</td>\n",
       "      <td>0.000036</td>\n",
       "      <td>0.000333</td>\n",
       "      <td>0.000090</td>\n",
       "      <td>0.000308</td>\n",
       "      <td>0.000165</td>\n",
       "    </tr>\n",
       "    <tr>\n",
       "      <th>2</th>\n",
       "      <td>00013b17ad220c46</td>\n",
       "      <td>0.046709</td>\n",
       "      <td>0.000592</td>\n",
       "      <td>0.005277</td>\n",
       "      <td>0.001469</td>\n",
       "      <td>0.006918</td>\n",
       "      <td>0.002441</td>\n",
       "    </tr>\n",
       "    <tr>\n",
       "      <th>3</th>\n",
       "      <td>00017563c3f7919a</td>\n",
       "      <td>0.001579</td>\n",
       "      <td>0.000028</td>\n",
       "      <td>0.000197</td>\n",
       "      <td>0.000059</td>\n",
       "      <td>0.000236</td>\n",
       "      <td>0.000106</td>\n",
       "    </tr>\n",
       "    <tr>\n",
       "      <th>4</th>\n",
       "      <td>00017695ad8997eb</td>\n",
       "      <td>0.005452</td>\n",
       "      <td>0.000098</td>\n",
       "      <td>0.000817</td>\n",
       "      <td>0.000241</td>\n",
       "      <td>0.000833</td>\n",
       "      <td>0.000416</td>\n",
       "    </tr>\n",
       "  </tbody>\n",
       "</table>\n",
       "</div>"
      ],
      "text/plain": [
       "                 id     toxic  severe_toxic   obscene    threat    insult  \\\n",
       "0  00001cee341fdb12  0.977194      0.246823  0.874671  0.036069  0.756161   \n",
       "1  0000247867823ef7  0.002163      0.000036  0.000333  0.000090  0.000308   \n",
       "2  00013b17ad220c46  0.046709      0.000592  0.005277  0.001469  0.006918   \n",
       "3  00017563c3f7919a  0.001579      0.000028  0.000197  0.000059  0.000236   \n",
       "4  00017695ad8997eb  0.005452      0.000098  0.000817  0.000241  0.000833   \n",
       "\n",
       "   identity_hate  \n",
       "0       0.151352  \n",
       "1       0.000165  \n",
       "2       0.002441  \n",
       "3       0.000106  \n",
       "4       0.000416  "
      ]
     },
     "execution_count": 6,
     "metadata": {},
     "output_type": "execute_result"
    }
   ],
   "source": [
    "pred_test = pd.read_csv(\"submission_lstm.csv\")\n",
    "pred_test.head()"
   ]
  },
  {
   "cell_type": "code",
   "execution_count": 7,
   "metadata": {},
   "outputs": [
    {
     "data": {
      "text/html": [
       "<div>\n",
       "<style scoped>\n",
       "    .dataframe tbody tr th:only-of-type {\n",
       "        vertical-align: middle;\n",
       "    }\n",
       "\n",
       "    .dataframe tbody tr th {\n",
       "        vertical-align: top;\n",
       "    }\n",
       "\n",
       "    .dataframe thead th {\n",
       "        text-align: right;\n",
       "    }\n",
       "</style>\n",
       "<table border=\"1\" class=\"dataframe\">\n",
       "  <thead>\n",
       "    <tr style=\"text-align: right;\">\n",
       "      <th></th>\n",
       "      <th>id</th>\n",
       "      <th>comment_text</th>\n",
       "    </tr>\n",
       "  </thead>\n",
       "  <tbody>\n",
       "    <tr>\n",
       "      <th>0</th>\n",
       "      <td>00001cee341fdb12</td>\n",
       "      <td>Yo bitch Ja Rule is more succesful then you'll...</td>\n",
       "    </tr>\n",
       "    <tr>\n",
       "      <th>1</th>\n",
       "      <td>0000247867823ef7</td>\n",
       "      <td>== From RfC == \\n\\n The title is fine as it is...</td>\n",
       "    </tr>\n",
       "    <tr>\n",
       "      <th>2</th>\n",
       "      <td>00013b17ad220c46</td>\n",
       "      <td>\" \\n\\n == Sources == \\n\\n * Zawe Ashton on Lap...</td>\n",
       "    </tr>\n",
       "    <tr>\n",
       "      <th>3</th>\n",
       "      <td>00017563c3f7919a</td>\n",
       "      <td>:If you have a look back at the source, the in...</td>\n",
       "    </tr>\n",
       "    <tr>\n",
       "      <th>4</th>\n",
       "      <td>00017695ad8997eb</td>\n",
       "      <td>I don't anonymously edit articles at all.</td>\n",
       "    </tr>\n",
       "  </tbody>\n",
       "</table>\n",
       "</div>"
      ],
      "text/plain": [
       "                 id                                       comment_text\n",
       "0  00001cee341fdb12  Yo bitch Ja Rule is more succesful then you'll...\n",
       "1  0000247867823ef7  == From RfC == \\n\\n The title is fine as it is...\n",
       "2  00013b17ad220c46  \" \\n\\n == Sources == \\n\\n * Zawe Ashton on Lap...\n",
       "3  00017563c3f7919a  :If you have a look back at the source, the in...\n",
       "4  00017695ad8997eb          I don't anonymously edit articles at all."
      ]
     },
     "execution_count": 7,
     "metadata": {},
     "output_type": "execute_result"
    }
   ],
   "source": [
    "test.head()"
   ]
  }
 ],
 "metadata": {
  "accelerator": "GPU",
  "colab": {
   "collapsed_sections": [],
   "default_view": {},
   "name": "toxic-comment-lstm.ipynb",
   "provenance": [],
   "version": "0.3.2",
   "views": {}
  },
  "kernelspec": {
   "display_name": "Python 3",
   "language": "python",
   "name": "python3"
  },
  "language_info": {
   "codemirror_mode": {
    "name": "ipython",
    "version": 3
   },
   "file_extension": ".py",
   "mimetype": "text/x-python",
   "name": "python",
   "nbconvert_exporter": "python",
   "pygments_lexer": "ipython3",
   "version": "3.6.4"
  }
 },
 "nbformat": 4,
 "nbformat_minor": 1
}
